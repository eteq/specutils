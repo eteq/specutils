{
 "cells": [
  {
   "cell_type": "code",
   "execution_count": 3,
   "metadata": {
    "scrolled": true
   },
   "outputs": [
    {
     "data": {
      "text/plain": [
       "<module 'specutils' from '../specutils/__init__.py'>"
      ]
     },
     "execution_count": 3,
     "metadata": {},
     "output_type": "execute_result"
    }
   ],
   "source": [
    "import sys\n",
    "\n",
    "sys.path.insert(0, '../')\n",
    "\n",
    "import specutils\n",
    "specutils"
   ]
  },
  {
   "cell_type": "code",
   "execution_count": 4,
   "metadata": {},
   "outputs": [],
   "source": [
    "from astropy.table import Table\n",
    "from astropy.utils import data\n",
    "from astropy.io import fits\n",
    "from astropy import units as u\n",
    "from astropy import constants as cnst\n",
    "import numpy as np"
   ]
  },
  {
   "cell_type": "code",
   "execution_count": 5,
   "metadata": {},
   "outputs": [],
   "source": [
    "%matplotlib inline\n",
    "from matplotlib import pyplot as plt"
   ]
  },
  {
   "cell_type": "markdown",
   "metadata": {},
   "source": [
    "# Downloads/prep"
   ]
  },
  {
   "cell_type": "markdown",
   "metadata": {},
   "source": [
    "## SDSS Spectra"
   ]
  },
  {
   "cell_type": "markdown",
   "metadata": {},
   "source": [
    "First lets grab a few example spectra from the SDSS.  These are fairly typical lowish resolution stellar spectra. We start by getting a convenient list of known nearish K/M-type stars."
   ]
  },
  {
   "cell_type": "code",
   "execution_count": 6,
   "metadata": {},
   "outputs": [
    {
     "data": {
      "text/plain": [
       "334"
      ]
     },
     "execution_count": 6,
     "metadata": {},
     "output_type": "execute_result"
    }
   ],
   "source": [
    "sdss_qry = \"\"\"\n",
    "SELECT z, ra, dec, sourceType, targetType, secTarget, fiberID, plate, mjd, specObjID, bestObjID, fluxObjID, targetObjID, plateID, sn1_r, sn2_r, spectroFlux_r, subClass \n",
    "FROM specObj \n",
    "WHERE ancillary_target1 & dbo.fAncillaryTarget1('RED_KG') > 0 \n",
    "\"\"\"\n",
    "\n",
    "t = Table.read('red_kgs_eteq.csv')\n",
    "t['avg_sn'] = (t['sn1_r'] + t['sn2_r'])/2\n",
    "t.sort('avg_sn')\n",
    "t.reverse()\n",
    "t['spectype'] = [sc.split('(')[0].strip() for sc in t['subClass']]\n",
    "t['lumclass'] = [''.join([char for char in st[2:] if char.isupper()]) for st in t['spectype']]\n",
    "giants = t['lumclass'] == 'III'\n",
    "np.sum(giants)"
   ]
  },
  {
   "cell_type": "markdown",
   "metadata": {},
   "source": [
    "Now download a couple of giants chosen to span the S/N range of this sample."
   ]
  },
  {
   "cell_type": "code",
   "execution_count": 7,
   "metadata": {},
   "outputs": [],
   "source": [
    "templ_spec_path = 'https://dr16.sdss.org/optical/spectrum/view/data/format=fits/spec=lite?plateid={plate}&mjd={mjd}&fiberid={fiberID}'"
   ]
  },
  {
   "cell_type": "code",
   "execution_count": 8,
   "metadata": {},
   "outputs": [
    {
     "name": "stderr",
     "output_type": "stream",
     "text": [
      "../specutils/io/default_loaders/sdss.py:80: RuntimeWarning: divide by zero encountered in true_divide\n",
      "  stdev = np.sqrt(1.0/hdulist[1].data['ivar'])\n"
     ]
    },
    {
     "data": {
      "text/plain": [
       "('K4III', <Quantity 87.08272388 km / s>)"
      ]
     },
     "execution_count": 8,
     "metadata": {},
     "output_type": "execute_result"
    },
    {
     "data": {
      "image/png": "[encoded data removed]",
      "text/plain": [
       "<Figure size 432x288 with 1 Axes>"
      ]
     },
     "metadata": {
      "needs_background": "light"
     },
     "output_type": "display_data"
    }
   ],
   "source": [
    "row = t[giants][0]\n",
    "url = templ_spec_path.format(**{nm: row[nm] for nm in 'plate,mjd,fiberID'.split(',')})\n",
    "fn = data.download_file(url, timeout=30)\n",
    "brightspec = specutils.Spectrum1D.read(fn, format='SDSS-III/IV spec')\n",
    "\n",
    "plt.step(brightspec.wavelength, brightspec.flux)\n",
    "brightspec.radial_velocity = row['z']*cnst.c.to(u.km/u.s)\n",
    "row['spectype'], brightspec.radial_velocity"
   ]
  },
  {
   "cell_type": "code",
   "execution_count": 9,
   "metadata": {},
   "outputs": [
    {
     "data": {
      "text/plain": [
       "('K2III', <Quantity -52.92302215 km / s>)"
      ]
     },
     "execution_count": 9,
     "metadata": {},
     "output_type": "execute_result"
    }
   ],
   "source": [
    "row = t[giants][-2]\n",
    "url = templ_spec_path.format(**{nm: row[nm] for nm in 'plate,mjd,fiberID'.split(',')})\n",
    "fn = data.download_file(url, timeout=30)\n",
    "faintspec = specutils.Spectrum1D.read(fn, format='SDSS-III/IV spec')\n",
    "\n",
    "faintspec.radial_velocity = row['z']*cnst.c.to(u.km/u.s)\n",
    "row['spectype'], faintspec.radial_velocity"
   ]
  },
  {
   "cell_type": "markdown",
   "metadata": {},
   "source": [
    "##  Template spectra"
   ]
  },
  {
   "cell_type": "markdown",
   "metadata": {},
   "source": [
    "Use the Phoenix grids as the templates.  For example purposes we will just grab two, one that's about the right teff/logg for a K2III, and another more like a K4III:"
   ]
  },
  {
   "cell_type": "code",
   "execution_count": 10,
   "metadata": {},
   "outputs": [],
   "source": [
    "# note these are very slow downloads, so just recording urls here and downloaded separately\n",
    "templ_logg2p5_teff5200_url = 'http://osubdd.ens-lyon.fr/phoenix/phoenix.cgi?c=i&a=mime:application/fits&o=phoenix:Grids/BT-Settl/CIFIST2011_2015/SPECTRA/lte052.0-2.5-0.0a+0.0.BT-Settl.spec.7.xz'\n",
    "templ_logg2p5_teff4600_url = 'http://osubdd.ens-lyon.fr/phoenix/phoenix.cgi?c=i&a=mime:application/fits&o=phoenix:Grids/BT-Settl/CIFIST2011_2015/SPECTRA/lte046.0-2.5-0.0a+0.0.BT-Settl.spec.7.xz'"
   ]
  },
  {
   "cell_type": "code",
   "execution_count": 11,
   "metadata": {},
   "outputs": [],
   "source": [
    "f46 = fits.open('phoenix_Grids_BT-Settl_CIFIST2011_2015_SPECTRA_lte046.0-2.5-0.0a 0.0.BT-Settl.spec.7.xz.fits')\n",
    "templ_spec4600 = specutils.Spectrum1D(spectral_axis=f46[1].data['WAVELENGTH']*u.angstrom, \n",
    "                                      flux=f46[1].data['FLUX']*u.angstrom)"
   ]
  },
  {
   "cell_type": "code",
   "execution_count": 12,
   "metadata": {},
   "outputs": [],
   "source": [
    "f52 = fits.open('phoenix_Grids_BT-Settl_CIFIST2011_2015_SPECTRA_lte052.0-2.5-0.0a 0.0.BT-Settl.spec.7.xz.fits')\n",
    "templ_spec5200 = specutils.Spectrum1D(spectral_axis=f52[1].data['WAVELENGTH']*u.angstrom, \n",
    "                                      flux=f52[1].data['FLUX']*u.angstrom)"
   ]
  },
  {
   "cell_type": "code",
   "execution_count": 13,
   "metadata": {},
   "outputs": [
    {
     "data": {
      "text/plain": [
       "(8000, 9000)"
      ]
     },
     "execution_count": 13,
     "metadata": {},
     "output_type": "execute_result"
    },
    {
     "data": {
      "image/png": "[encoded data removed]",
      "text/plain": [
       "<Figure size 432x288 with 1 Axes>"
      ]
     },
     "metadata": {
      "needs_background": "light"
     },
     "output_type": "display_data"
    }
   ],
   "source": [
    "plt.step(templ_spec4600.wavelength, templ_spec4600.flux)\n",
    "plt.xlim(8000, 9000)"
   ]
  },
  {
   "cell_type": "markdown",
   "metadata": {},
   "source": [
    "Very different resolution... but lets see what happens:"
   ]
  },
  {
   "cell_type": "code",
   "execution_count": 30,
   "metadata": {},
   "outputs": [],
   "source": [
    "from specutils.analysis.correlation import template_correlate # this should be from analysis not correlation"
   ]
  },
  {
   "cell_type": "code",
   "execution_count": 31,
   "metadata": {},
   "outputs": [
    {
     "ename": "ValueError",
     "evalue": "operands could not be broadcast together with shapes (4608,) (1336340,) ",
     "output_type": "error",
     "traceback": [
      "\u001b[0;31m---------------------------------------------------------------------------\u001b[0m",
      "\u001b[0;31mValueError\u001b[0m                                Traceback (most recent call last)",
      "\u001b[0;32m<ipython-input-31-3885e8cbf3a4>\u001b[0m in \u001b[0;36m<module>\u001b[0;34m\u001b[0m\n\u001b[0;32m----> 1\u001b[0;31m \u001b[0mtemplate_correlate\u001b[0m\u001b[0;34m(\u001b[0m\u001b[0mbrightspec\u001b[0m\u001b[0;34m,\u001b[0m \u001b[0mtempl_spec5200\u001b[0m\u001b[0;34m)\u001b[0m\u001b[0;34m\u001b[0m\u001b[0;34m\u001b[0m\u001b[0m\n\u001b[0m",
      "\u001b[0;32m~/tmp/specutils-redshift/specutils/analysis/correlation.py\u001b[0m in \u001b[0;36mtemplate_correlate\u001b[0;34m(observed_spectrum, template_spectrum)\u001b[0m\n\u001b[1;32m     55\u001b[0m     \"\"\"\n\u001b[1;32m     56\u001b[0m     \u001b[0;31m# Normalize template\u001b[0m\u001b[0;34m\u001b[0m\u001b[0;34m\u001b[0m\u001b[0;34m\u001b[0m\u001b[0m\n\u001b[0;32m---> 57\u001b[0;31m     \u001b[0mnormalization\u001b[0m \u001b[0;34m=\u001b[0m \u001b[0m_normalize\u001b[0m\u001b[0;34m(\u001b[0m\u001b[0mobserved_spectrum\u001b[0m\u001b[0;34m,\u001b[0m \u001b[0mtemplate_spectrum\u001b[0m\u001b[0;34m)\u001b[0m\u001b[0;34m\u001b[0m\u001b[0;34m\u001b[0m\u001b[0m\n\u001b[0m\u001b[1;32m     58\u001b[0m \u001b[0;34m\u001b[0m\u001b[0m\n\u001b[1;32m     59\u001b[0m     \u001b[0;31m# Not sure if we need to actually normalize the template. Depending\u001b[0m\u001b[0;34m\u001b[0m\u001b[0;34m\u001b[0m\u001b[0;34m\u001b[0m\u001b[0m\n",
      "\u001b[0;32m~/tmp/specutils-redshift/specutils/analysis/correlation.py\u001b[0m in \u001b[0;36m_normalize\u001b[0;34m(observed_spectrum, template_spectrum)\u001b[0m\n\u001b[1;32m     27\u001b[0m         \u001b[0mcan\u001b[0m \u001b[0mbe\u001b[0m \u001b[0mcompared\u001b[0m \u001b[0mto\u001b[0m \u001b[0mthe\u001b[0m \u001b[0mobserved\u001b[0m \u001b[0mspectrum\u001b[0m\u001b[0;34m.\u001b[0m\u001b[0;34m\u001b[0m\u001b[0;34m\u001b[0m\u001b[0m\n\u001b[1;32m     28\u001b[0m     \"\"\"\n\u001b[0;32m---> 29\u001b[0;31m     num = np.nansum((observed_spectrum.flux*template_spectrum.flux)/\n\u001b[0m\u001b[1;32m     30\u001b[0m                  (observed_spectrum.uncertainty.array**2))\n\u001b[1;32m     31\u001b[0m     denom = np.nansum((template_spectrum.flux/\n",
      "\u001b[0;32m~/miniconda3/envs/astro38/lib/python3.8/site-packages/astropy/units/quantity.py\u001b[0m in \u001b[0;36m__mul__\u001b[0;34m(self, other)\u001b[0m\n\u001b[1;32m    945\u001b[0m                 \u001b[0;32mreturn\u001b[0m \u001b[0mNotImplemented\u001b[0m\u001b[0;34m\u001b[0m\u001b[0;34m\u001b[0m\u001b[0m\n\u001b[1;32m    946\u001b[0m \u001b[0;34m\u001b[0m\u001b[0m\n\u001b[0;32m--> 947\u001b[0;31m         \u001b[0;32mreturn\u001b[0m \u001b[0msuper\u001b[0m\u001b[0;34m(\u001b[0m\u001b[0;34m)\u001b[0m\u001b[0;34m.\u001b[0m\u001b[0m__mul__\u001b[0m\u001b[0;34m(\u001b[0m\u001b[0mother\u001b[0m\u001b[0;34m)\u001b[0m\u001b[0;34m\u001b[0m\u001b[0;34m\u001b[0m\u001b[0m\n\u001b[0m\u001b[1;32m    948\u001b[0m \u001b[0;34m\u001b[0m\u001b[0m\n\u001b[1;32m    949\u001b[0m     \u001b[0;32mdef\u001b[0m \u001b[0m__imul__\u001b[0m\u001b[0;34m(\u001b[0m\u001b[0mself\u001b[0m\u001b[0;34m,\u001b[0m \u001b[0mother\u001b[0m\u001b[0;34m)\u001b[0m\u001b[0;34m:\u001b[0m\u001b[0;34m\u001b[0m\u001b[0;34m\u001b[0m\u001b[0m\n",
      "\u001b[0;32m~/miniconda3/envs/astro38/lib/python3.8/site-packages/astropy/units/quantity.py\u001b[0m in \u001b[0;36m__array_ufunc__\u001b[0;34m(self, function, method, *inputs, **kwargs)\u001b[0m\n\u001b[1;32m    479\u001b[0m \u001b[0;34m\u001b[0m\u001b[0m\n\u001b[1;32m    480\u001b[0m         \u001b[0;31m# Call our superclass's __array_ufunc__\u001b[0m\u001b[0;34m\u001b[0m\u001b[0;34m\u001b[0m\u001b[0;34m\u001b[0m\u001b[0m\n\u001b[0;32m--> 481\u001b[0;31m         \u001b[0mresult\u001b[0m \u001b[0;34m=\u001b[0m \u001b[0msuper\u001b[0m\u001b[0;34m(\u001b[0m\u001b[0;34m)\u001b[0m\u001b[0;34m.\u001b[0m\u001b[0m__array_ufunc__\u001b[0m\u001b[0;34m(\u001b[0m\u001b[0mfunction\u001b[0m\u001b[0;34m,\u001b[0m \u001b[0mmethod\u001b[0m\u001b[0;34m,\u001b[0m \u001b[0;34m*\u001b[0m\u001b[0marrays\u001b[0m\u001b[0;34m,\u001b[0m \u001b[0;34m**\u001b[0m\u001b[0mkwargs\u001b[0m\u001b[0;34m)\u001b[0m\u001b[0;34m\u001b[0m\u001b[0;34m\u001b[0m\u001b[0m\n\u001b[0m\u001b[1;32m    482\u001b[0m         \u001b[0;31m# If unit is None, a plain array is expected (e.g., comparisons), which\u001b[0m\u001b[0;34m\u001b[0m\u001b[0;34m\u001b[0m\u001b[0;34m\u001b[0m\u001b[0m\n\u001b[1;32m    483\u001b[0m         \u001b[0;31m# means we're done.\u001b[0m\u001b[0;34m\u001b[0m\u001b[0;34m\u001b[0m\u001b[0;34m\u001b[0m\u001b[0m\n",
      "\u001b[0;31mValueError\u001b[0m: operands could not be broadcast together with shapes (4608,) (1336340,) "
     ]
    }
   ],
   "source": [
    "template_correlate(brightspec, templ_spec5200)"
   ]
  },
  {
   "cell_type": "markdown",
   "metadata": {},
   "source": [
    "Hmmm.  Does not auto re-sample just as the docs say. Need to resample, but should smooth the template *first* to something slightly higher-res than the observed spectra."
   ]
  },
  {
   "cell_type": "markdown",
   "metadata": {},
   "source": [
    "First lets figure out how much to smooth the template to match the data"
   ]
  },
  {
   "cell_type": "code",
   "execution_count": 21,
   "metadata": {},
   "outputs": [],
   "source": [
    "from specutils import analysis, manipulation"
   ]
  },
  {
   "cell_type": "code",
   "execution_count": 22,
   "metadata": {},
   "outputs": [],
   "source": [
    "#overlap_region = specutils.SpectralRegion(brightspec.spectral_axis.min(), brightspec.spectral_axis.max())\n",
    "#res = manipulation.extract_region(templ_spec5200, overlap_region)  # <--- this is slow and shouldn't be!"
   ]
  },
  {
   "cell_type": "code",
   "execution_count": 23,
   "metadata": {},
   "outputs": [
    {
     "data": {
      "text/plain": [
       "(<Quantity [0.02, 0.02, 0.02, 0.02] Angstrom>, <Quantity 0.02 Angstrom / pix>)"
      ]
     },
     "execution_count": 23,
     "metadata": {},
     "output_type": "execute_result"
    }
   ],
   "source": [
    "overlap_msk = (brightspec.spectral_axis.min() < templ_spec5200.spectral_axis) & (templ_spec5200.spectral_axis < brightspec.spectral_axis.max())\n",
    "templ_scale = np.median(np.diff(templ_spec5200.spectral_axis[overlap_msk]))/u.pixel\n",
    "np.unique(np.diff(templ_spec5200.spectral_axis[overlap_msk])), templ_scale"
   ]
  },
  {
   "cell_type": "markdown",
   "metadata": {},
   "source": [
    "Nearly-uniform spacing over the whole templare region of interest.  So we can use that to compute the pixel-box needed. What about the data?"
   ]
  },
  {
   "cell_type": "code",
   "execution_count": 24,
   "metadata": {},
   "outputs": [
    {
     "data": {
      "text/latex": [
       "$1.4072266 \\; \\mathrm{\\mathring{A}}$"
      ],
      "text/plain": [
       "<Quantity 1.40722656 Angstrom>"
      ]
     },
     "execution_count": 24,
     "metadata": {},
     "output_type": "execute_result"
    },
    {
     "data": {
      "image/png": "[encoded data removed]",
      "text/plain": [
       "<Figure size 432x288 with 1 Axes>"
      ]
     },
     "metadata": {
      "needs_background": "light"
     },
     "output_type": "display_data"
    }
   ],
   "source": [
    "dlamb = np.diff(brightspec.spectral_axis)\n",
    "plt.hist(dlamb.value)\n",
    "np.median(dlamb)"
   ]
  },
  {
   "cell_type": "markdown",
   "metadata": {},
   "source": [
    "Aha it's already a log-spaced axis. Smooth to just the median dlamb then:"
   ]
  },
  {
   "cell_type": "code",
   "execution_count": 25,
   "metadata": {},
   "outputs": [
    {
     "name": "stderr",
     "output_type": "stream",
     "text": [
      "WARNING: UnitsWarning: The unit 'Angstrom' has been deprecated in the VOUnit standard. Suggested: 0.1nm. [astropy.units.format.utils]\n",
      "WARNING:astropy:UnitsWarning: The unit 'Angstrom' has been deprecated in the VOUnit standard. Suggested: 0.1nm.\n"
     ]
    },
    {
     "data": {
      "text/plain": [
       "(8000, 9000)"
      ]
     },
     "execution_count": 25,
     "metadata": {},
     "output_type": "execute_result"
    },
    {
     "data": {
      "image/png": "[encoded data removed]",
      "text/plain": [
       "<Figure size 432x288 with 1 Axes>"
      ]
     },
     "metadata": {
      "needs_background": "light"
     },
     "output_type": "display_data"
    }
   ],
   "source": [
    "box_size = (np.median(dlamb)/templ_scale).value\n",
    "smoothed_templ = manipulation.box_smooth(templ_spec5200, box_size)\n",
    "plt.step(smoothed_templ.wavelength, smoothed_templ.flux)\n",
    "plt.xlim(8000, 9000)"
   ]
  },
  {
   "cell_type": "code",
   "execution_count": 26,
   "metadata": {},
   "outputs": [
    {
     "data": {
      "text/plain": [
       "(8000, 9000)"
      ]
     },
     "execution_count": 26,
     "metadata": {},
     "output_type": "execute_result"
    },
    {
     "data": {
      "image/png": "[encoded data removed]",
      "text/plain": [
       "<Figure size 432x288 with 1 Axes>"
      ]
     },
     "metadata": {
      "needs_background": "light"
     },
     "output_type": "display_data"
    }
   ],
   "source": [
    "smoothed_resampled_templ = manipulation.LinearInterpolatedResampler()(smoothed_templ, brightspec.spectral_axis)\n",
    "plt.step(smoothed_resampled_templ.wavelength, smoothed_resampled_templ.flux)\n",
    "plt.xlim(8000, 9000)"
   ]
  },
  {
   "cell_type": "markdown",
   "metadata": {},
   "source": [
    "Now we can cross-correlate:"
   ]
  },
  {
   "cell_type": "code",
   "execution_count": 32,
   "metadata": {},
   "outputs": [
    {
     "name": "stderr",
     "output_type": "stream",
     "text": [
      "../specutils/manipulation/resample.py:226: RuntimeWarning: invalid value encountered in multiply\n",
      "  out_variance = np.sum(pixel_uncer * resample_grid**2, axis=-1) / np.sum(\n"
     ]
    },
    {
     "data": {
      "text/latex": [
       "$37269.441 \\; \\mathrm{\\frac{km}{s}}$"
      ],
      "text/plain": [
       "<Quantity 37269.44085546 km / s>"
      ]
     },
     "execution_count": 32,
     "metadata": {},
     "output_type": "execute_result"
    },
    {
     "data": {
      "image/png": "[encoded data removed]",
      "text/plain": [
       "<Figure size 432x288 with 1 Axes>"
      ]
     },
     "metadata": {
      "needs_background": "light"
     },
     "output_type": "display_data"
    }
   ],
   "source": [
    "corr, lags = template_correlate(brightspec, smoothed_resampled_templ)\n",
    "plt.plot(lags, corr)\n",
    "plt.axvline(brightspec.radial_velocity.value,c = 'k')\n",
    "plt.xlim(-10000, 10000)\n",
    "lags[np.argmax(corr)]"
   ]
  },
  {
   "cell_type": "markdown",
   "metadata": {},
   "source": [
    "Uh oh... the lags are not sampled nearly finely enough, probably because it's only once per pixel. So maybe try switching to a much higher-resolution re-binning?\n",
    "\n",
    "Also the docs do not see resampling is happening internally.  That's a problem..."
   ]
  },
  {
   "cell_type": "code",
   "execution_count": 48,
   "metadata": {},
   "outputs": [
    {
     "name": "stderr",
     "output_type": "stream",
     "text": [
      "WARNING: UnitsWarning: The unit 'Angstrom' has been deprecated in the VOUnit standard. Suggested: 0.1nm. [astropy.units.format.utils]\n",
      "WARNING:astropy:UnitsWarning: The unit 'Angstrom' has been deprecated in the VOUnit standard. Suggested: 0.1nm.\n"
     ]
    }
   ],
   "source": [
    "resampler = manipulation.LinearInterpolatedResampler('zero_fill')\n",
    "\n",
    "new_spectral_axis = np.geomspace(np.min(brightspec.spectral_axis), \n",
    "                                 np.max(brightspec.spectral_axis), \n",
    "                                 brightspec.spectral_axis.shape[0]*2)\n",
    "\n",
    "brightspec_resampled = resampler(brightspec, new_spectral_axis)\n",
    "\n",
    "smoothed_templ = manipulation.box_smooth(templ_spec5200, box_size)\n",
    "smoothed_resampled_templ = resampler(smoothed_templ, new_spectral_axis)"
   ]
  },
  {
   "cell_type": "code",
   "execution_count": 50,
   "metadata": {},
   "outputs": [
    {
     "name": "stderr",
     "output_type": "stream",
     "text": [
      "/Users/erik/miniconda3/envs/astro38/lib/python3.8/site-packages/astropy/units/quantity.py:481: RuntimeWarning: invalid value encountered in true_divide\n",
      "  result = super().__array_ufunc__(function, method, *arrays, **kwargs)\n",
      "/Users/erik/miniconda3/envs/astro38/lib/python3.8/site-packages/astropy/units/quantity.py:481: RuntimeWarning: divide by zero encountered in true_divide\n",
      "  result = super().__array_ufunc__(function, method, *arrays, **kwargs)\n",
      "../specutils/manipulation/resample.py:226: RuntimeWarning: invalid value encountered in multiply\n",
      "  out_variance = np.sum(pixel_uncer * resample_grid**2, axis=-1) / np.sum(\n"
     ]
    },
    {
     "data": {
      "text/latex": [
       "$-195998.84 \\; \\mathrm{\\frac{km}{s}}$"
      ],
      "text/plain": [
       "<Quantity -195998.84342493 km / s>"
      ]
     },
     "execution_count": 50,
     "metadata": {},
     "output_type": "execute_result"
    },
    {
     "data": {
      "image/png": "[encoded data removed]",
      "text/plain": [
       "<Figure size 432x288 with 1 Axes>"
      ]
     },
     "metadata": {
      "needs_background": "light"
     },
     "output_type": "display_data"
    }
   ],
   "source": [
    "corr, lags = template_correlate(brightspec_resampled, smoothed_resampled_templ)\n",
    "plt.plot(lags, corr)\n",
    "plt.axvline(brightspec.radial_velocity.value,c = 'k')\n",
    "plt.xlim(-10000, 10000)\n",
    "lags[np.argmax(corr)]"
   ]
  },
  {
   "cell_type": "markdown",
   "metadata": {},
   "source": [
    "Why doesn't that work??"
   ]
  },
  {
   "cell_type": "markdown",
   "metadata": {},
   "source": [
    "Still missing from this workflow: \n",
    "\n",
    "* continuum normalization\n",
    "* limited set of lags"
   ]
  }
 ],
 "metadata": {
  "kernelspec": {
   "display_name": "Python (astro38)",
   "language": "python",
   "name": "astro38"
  },
  "language_info": {
   "codemirror_mode": {
    "name": "ipython",
    "version": 3
   },
   "file_extension": ".py",
   "mimetype": "text/x-python",
   "name": "python",
   "nbconvert_exporter": "python",
   "pygments_lexer": "ipython3",
   "version": "3.8.0"
  }
 },
 "nbformat": 4,
 "nbformat_minor": 2
}

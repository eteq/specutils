{
 "cells": [
  {
   "cell_type": "code",
   "execution_count": null,
   "metadata": {
    "scrolled": true
   },
   "outputs": [],
   "source": [
    "import sys\n",
    "\n",
    "sys.path.insert(0, '../')\n",
    "\n",
    "import specutils\n",
    "from specutils import analysis, manipulation, fitting\n",
    "specutils"
   ]
  },
  {
   "cell_type": "code",
   "execution_count": null,
   "metadata": {},
   "outputs": [],
   "source": [
    "from astropy.table import Table\n",
    "from astropy.utils import data\n",
    "from astropy.io import fits\n",
    "from astropy import units as u\n",
    "from astropy import constants as cnst\n",
    "from astropy.modeling import models\n",
    "import numpy as np"
   ]
  },
  {
   "cell_type": "code",
   "execution_count": null,
   "metadata": {},
   "outputs": [],
   "source": [
    "%matplotlib inline\n",
    "from matplotlib import pyplot as plt"
   ]
  },
  {
   "cell_type": "markdown",
   "metadata": {},
   "source": [
    "# Downloads/prep"
   ]
  },
  {
   "cell_type": "markdown",
   "metadata": {},
   "source": [
    "## SDSS Spectra"
   ]
  },
  {
   "cell_type": "markdown",
   "metadata": {},
   "source": [
    "First lets grab a few example spectra from the SDSS.  These are fairly typical lowish resolution stellar spectra. We start by getting a convenient list of known nearish K/M-type stars."
   ]
  },
  {
   "cell_type": "code",
   "execution_count": null,
   "metadata": {},
   "outputs": [],
   "source": [
    "sdss_qry = \"\"\"\n",
    "SELECT z, ra, dec, sourceType, targetType, secTarget, fiberID, plate, mjd, specObjID, bestObjID, fluxObjID, targetObjID, plateID, sn1_r, sn2_r, spectroFlux_r, subClass \n",
    "FROM specObj \n",
    "WHERE ancillary_target1 & dbo.fAncillaryTarget1('RED_KG') > 0 \n",
    "\"\"\"\n",
    "\n",
    "t = Table.read('red_kgs_eteq.csv')\n",
    "t['avg_sn'] = (t['sn1_r'] + t['sn2_r'])/2\n",
    "t.sort('avg_sn')\n",
    "t.reverse()\n",
    "t['spectype'] = [sc.split('(')[0].strip() for sc in t['subClass']]\n",
    "t['lumclass'] = [''.join([char for char in st[2:] if char.isupper()]) for st in t['spectype']]\n",
    "giants = t['lumclass'] == 'III'\n",
    "np.sum(giants)"
   ]
  },
  {
   "cell_type": "markdown",
   "metadata": {},
   "source": [
    "Now download a couple of giants chosen to span the S/N range of this sample."
   ]
  },
  {
   "cell_type": "code",
   "execution_count": null,
   "metadata": {},
   "outputs": [],
   "source": [
    "templ_spec_path = 'https://dr16.sdss.org/optical/spectrum/view/data/format=fits/spec=lite?plateid={plate}&mjd={mjd}&fiberid={fiberID}'"
   ]
  },
  {
   "cell_type": "code",
   "execution_count": null,
   "metadata": {},
   "outputs": [],
   "source": [
    "row = t[giants][0]\n",
    "url = templ_spec_path.format(**{nm: row[nm] for nm in 'plate,mjd,fiberID'.split(',')})\n",
    "fn = data.download_file(url, timeout=30)\n",
    "brightspec = specutils.Spectrum1D.read(fn, format='SDSS-III/IV spec')\n",
    "\n",
    "plt.step(brightspec.wavelength, brightspec.flux)\n",
    "brightspec.radial_velocity = row['z']*cnst.c.to(u.km/u.s)\n",
    "row['spectype'], brightspec.radial_velocity"
   ]
  },
  {
   "cell_type": "code",
   "execution_count": null,
   "metadata": {},
   "outputs": [],
   "source": [
    "row = t[giants][-2]\n",
    "url = templ_spec_path.format(**{nm: row[nm] for nm in 'plate,mjd,fiberID'.split(',')})\n",
    "fn = data.download_file(url, timeout=30)\n",
    "faintspec = specutils.Spectrum1D.read(fn, format='SDSS-III/IV spec')\n",
    "\n",
    "faintspec.radial_velocity = row['z']*cnst.c.to(u.km/u.s)\n",
    "row['spectype'], faintspec.radial_velocity"
   ]
  },
  {
   "cell_type": "markdown",
   "metadata": {},
   "source": [
    "##  Template spectra"
   ]
  },
  {
   "cell_type": "markdown",
   "metadata": {},
   "source": [
    "Use the Phoenix grids as the templates.  For example purposes we will just grab two, one that's about the right teff/logg for a K2III, and another more like a K4III:"
   ]
  },
  {
   "cell_type": "code",
   "execution_count": null,
   "metadata": {},
   "outputs": [],
   "source": [
    "# note these are very slow downloads, so just recording urls here and downloaded separately\n",
    "templ_logg2p5_teff5200_url = 'http://osubdd.ens-lyon.fr/phoenix/phoenix.cgi?c=i&a=mime:application/fits&o=phoenix:Grids/BT-Settl/CIFIST2011_2015/SPECTRA/lte052.0-2.5-0.0a+0.0.BT-Settl.spec.7.xz'\n",
    "templ_logg2p5_teff4600_url = 'http://osubdd.ens-lyon.fr/phoenix/phoenix.cgi?c=i&a=mime:application/fits&o=phoenix:Grids/BT-Settl/CIFIST2011_2015/SPECTRA/lte046.0-2.5-0.0a+0.0.BT-Settl.spec.7.xz'"
   ]
  },
  {
   "cell_type": "code",
   "execution_count": null,
   "metadata": {},
   "outputs": [],
   "source": [
    "f46 = fits.open('phoenix_Grids_BT-Settl_CIFIST2011_2015_SPECTRA_lte046.0-2.5-0.0a 0.0.BT-Settl.spec.7.xz.fits')\n",
    "templ_spec4600 = specutils.Spectrum1D(spectral_axis=f46[1].data['WAVELENGTH']*u.angstrom, \n",
    "                                      flux=f46[1].data['FLUX']*u.angstrom)"
   ]
  },
  {
   "cell_type": "code",
   "execution_count": null,
   "metadata": {},
   "outputs": [],
   "source": [
    "f52 = fits.open('phoenix_Grids_BT-Settl_CIFIST2011_2015_SPECTRA_lte052.0-2.5-0.0a 0.0.BT-Settl.spec.7.xz.fits')\n",
    "templ_spec5200 = specutils.Spectrum1D(spectral_axis=f52[1].data['WAVELENGTH']*u.angstrom, \n",
    "                                      flux=f52[1].data['FLUX']*u.angstrom)"
   ]
  },
  {
   "cell_type": "code",
   "execution_count": null,
   "metadata": {},
   "outputs": [],
   "source": [
    "plt.step(templ_spec4600.wavelength, templ_spec4600.flux)\n",
    "plt.xlim(8000, 9000)"
   ]
  },
  {
   "cell_type": "markdown",
   "metadata": {},
   "source": [
    "Very different resolution... but lets see what happens:"
   ]
  },
  {
   "cell_type": "code",
   "execution_count": null,
   "metadata": {},
   "outputs": [],
   "source": [
    "from specutils.analysis.correlation import template_correlate # this should be from analysis not correlation"
   ]
  },
  {
   "cell_type": "code",
   "execution_count": null,
   "metadata": {},
   "outputs": [],
   "source": [
    "template_correlate(brightspec, templ_spec5200)"
   ]
  },
  {
   "cell_type": "markdown",
   "metadata": {},
   "source": [
    "Hmmm.  Does not auto re-sample just as the docs say. Need to resample, but should smooth the template *first* to something slightly higher-res than the observed spectra."
   ]
  },
  {
   "cell_type": "markdown",
   "metadata": {},
   "source": [
    "## Smoothing and re-sampling to a common grid "
   ]
  },
  {
   "cell_type": "markdown",
   "metadata": {},
   "source": [
    "First lets figure out how much to smooth the template to match the data"
   ]
  },
  {
   "cell_type": "code",
   "execution_count": null,
   "metadata": {},
   "outputs": [],
   "source": [
    "#overlap_region = specutils.SpectralRegion(brightspec.spectral_axis.min(), brightspec.spectral_axis.max())\n",
    "#res = manipulation.extract_region(templ_spec5200, overlap_region)  # <--- this is slow and shouldn't be!"
   ]
  },
  {
   "cell_type": "code",
   "execution_count": null,
   "metadata": {},
   "outputs": [],
   "source": [
    "overlap_msk = (brightspec.spectral_axis.min() < templ_spec5200.spectral_axis) & (templ_spec5200.spectral_axis < brightspec.spectral_axis.max())\n",
    "templ_scale = np.median(np.diff(templ_spec5200.spectral_axis[overlap_msk]))/u.pixel\n",
    "np.unique(np.diff(templ_spec5200.spectral_axis[overlap_msk])), templ_scale"
   ]
  },
  {
   "cell_type": "markdown",
   "metadata": {},
   "source": [
    "Nearly-uniform spacing over the whole templare region of interest.  So we can use that to compute the pixel-box needed. What about the data?"
   ]
  },
  {
   "cell_type": "code",
   "execution_count": null,
   "metadata": {},
   "outputs": [],
   "source": [
    "dlamb = np.diff(brightspec.spectral_axis)\n",
    "plt.hist(dlamb.value)\n",
    "np.median(dlamb)"
   ]
  },
  {
   "cell_type": "markdown",
   "metadata": {},
   "source": [
    "Aha it's already a log-spaced axis. Smooth to just the median dlamb then:"
   ]
  },
  {
   "cell_type": "code",
   "execution_count": null,
   "metadata": {},
   "outputs": [],
   "source": [
    "box_size = (np.median(dlamb)/templ_scale).value\n",
    "smoothed_templ = manipulation.box_smooth(templ_spec5200, box_size)\n",
    "plt.step(smoothed_templ.wavelength, smoothed_templ.flux)\n",
    "plt.xlim(8000, 9000)"
   ]
  },
  {
   "cell_type": "code",
   "execution_count": null,
   "metadata": {},
   "outputs": [],
   "source": [
    "smoothed_resampled_templ = manipulation.LinearInterpolatedResampler()(smoothed_templ, brightspec.spectral_axis)\n",
    "plt.step(smoothed_resampled_templ.wavelength, smoothed_resampled_templ.flux)\n",
    "plt.xlim(8000, 9000)"
   ]
  },
  {
   "cell_type": "markdown",
   "metadata": {},
   "source": [
    "Now we can cross-correlate:"
   ]
  },
  {
   "cell_type": "code",
   "execution_count": null,
   "metadata": {},
   "outputs": [],
   "source": [
    "corr, lags = template_correlate(brightspec, smoothed_resampled_templ)\n",
    "plt.plot(lags, corr)\n",
    "plt.axvline(brightspec.radial_velocity.value,c = 'k')\n",
    "plt.xlim(-10000, 10000)\n",
    "lags[np.argmax(corr)]"
   ]
  },
  {
   "cell_type": "markdown",
   "metadata": {},
   "source": [
    "Uh oh... the lags are not sampled finely enough, probably because it's only once per pixel. So maybe try switching to a much higher-resolution re-binning?\n",
    "\n",
    "Also the docs do not see resampling is happening internally.  That's a problem..."
   ]
  },
  {
   "cell_type": "code",
   "execution_count": null,
   "metadata": {},
   "outputs": [],
   "source": [
    "resampler = manipulation.LinearInterpolatedResampler('zero_fill')\n",
    "\n",
    "new_spectral_axis = np.geomspace(np.min(brightspec.spectral_axis), \n",
    "                                 np.max(brightspec.spectral_axis), \n",
    "                                 brightspec.spectral_axis.shape[0]*2)\n",
    "\n",
    "brightspec_resampled = resampler(brightspec, new_spectral_axis)\n",
    "\n",
    "smoothed_templ = manipulation.box_smooth(templ_spec5200, box_size)\n",
    "smoothed_resampled_templ = resampler(smoothed_templ, new_spectral_axis)"
   ]
  },
  {
   "cell_type": "code",
   "execution_count": null,
   "metadata": {},
   "outputs": [],
   "source": [
    "corr, lags = template_correlate(brightspec_resampled, smoothed_resampled_templ)\n",
    "plt.plot(lags, corr)\n",
    "plt.axvline(brightspec.radial_velocity.value,c = 'k')\n",
    "plt.xlim(-10000, 10000)\n",
    "lags[np.argmax(corr)]"
   ]
  },
  {
   "cell_type": "markdown",
   "metadata": {},
   "source": [
    "Why doesn't that work??  Oh.  It's probably the internal resampler, so there needs to be some way to work around that."
   ]
  },
  {
   "cell_type": "markdown",
   "metadata": {},
   "source": [
    "## Add continuum normalization "
   ]
  },
  {
   "cell_type": "code",
   "execution_count": null,
   "metadata": {},
   "outputs": [],
   "source": [
    "cont = fitting.fit_generic_continuum(brightspec, model=models.Chebyshev1D(10))\n",
    "plt.step(brightspec.wavelength, brightspec.flux)\n",
    "\n",
    "plt.plot(brightspec.wavelength, cont(brightspec.wavelength))"
   ]
  },
  {
   "cell_type": "code",
   "execution_count": null,
   "metadata": {},
   "outputs": [],
   "source": [
    "brightspec_contnorm = brightspec/cont(brightspec.wavelength)\n",
    "plt.step(brightspec_contnorm.wavelength, brightspec_contnorm.flux);"
   ]
  },
  {
   "cell_type": "code",
   "execution_count": null,
   "metadata": {},
   "outputs": [],
   "source": [
    "smoothed_templ = manipulation.box_smooth(templ_spec5200, box_size)\n",
    "smoothed_resampled_templ = manipulation.LinearInterpolatedResampler()(smoothed_templ, brightspec.spectral_axis)\n",
    "\n",
    "cont_templ = fitting.fit_generic_continuum(smoothed_resampled_templ, model=models.Chebyshev1D(10))\n",
    "\n",
    "plt.step(smoothed_resampled_templ.wavelength, smoothed_resampled_templ.flux)\n",
    "plt.plot(smoothed_resampled_templ.wavelength, cont_templ(smoothed_resampled_templ.wavelength))"
   ]
  },
  {
   "cell_type": "code",
   "execution_count": null,
   "metadata": {},
   "outputs": [],
   "source": [
    "templ_contnorm = smoothed_resampled_templ/cont_templ(smoothed_resampled_templ.wavelength)\n",
    "plt.step(templ_contnorm.wavelength, templ_contnorm.flux);"
   ]
  },
  {
   "cell_type": "code",
   "execution_count": null,
   "metadata": {},
   "outputs": [],
   "source": [
    "corr, lags = template_correlate(brightspec_contnorm, templ_contnorm)\n",
    "plt.plot(lags, corr, 'o-')\n",
    "plt.axvline(brightspec.radial_velocity.value,c='k')\n",
    "plt.xlim(-1000, 1000)\n",
    "plt.ylim(4500, 4700)\n",
    "lags[np.argmax(corr)], brightspec.radial_velocity"
   ]
  },
  {
   "cell_type": "markdown",
   "metadata": {},
   "source": [
    "Huzzah!  The peak is in about the right place now that we've added continuum normalization.  But it's still not quite right, and the reason is clear in the above plot: this can only manage whatever the native resolution is of the spectrum is, and as the example above ( The cell that ends in \"Why doesn't that work??\") shows, that's not working.\n",
    "\n",
    "Can also try statistically estimating the peak a bit?:"
   ]
  },
  {
   "cell_type": "code",
   "execution_count": null,
   "metadata": {},
   "outputs": [],
   "source": [
    "peak_msk = (-250*u.km/u.s<lags)&(lags<500*u.km/u.s)\n",
    "\n",
    "corrlags = lags[peak_msk]\n",
    "corrpeak = corr[peak_msk]-4600\n",
    "\n",
    "plt.plot(corrlags, corrpeak, 'o-')\n",
    "centroid_corr = np.sum(corrlags*corrpeak/np.sum(corrpeak))\n",
    "plt.axvline(centroid_corr.value, c='k')\n",
    "centroid_corr"
   ]
  },
  {
   "cell_type": "markdown",
   "metadata": {},
   "source": [
    "That result depends on choosing parameters carefully for how you locate the peak but it's a proof-of-concept that it's plausible..."
   ]
  },
  {
   "cell_type": "markdown",
   "metadata": {},
   "source": [
    "Still missing from this workflow: \n",
    "\n",
    "* limited set of lags (requires update to PR)"
   ]
  }
 ],
 "metadata": {
  "kernelspec": {
   "display_name": "Python (astro38)",
   "language": "python",
   "name": "astro38"
  },
  "language_info": {
   "codemirror_mode": {
    "name": "ipython",
    "version": 3
   },
   "file_extension": ".py",
   "mimetype": "text/x-python",
   "name": "python",
   "nbconvert_exporter": "python",
   "pygments_lexer": "ipython3",
   "version": "3.8.0"
  }
 },
 "nbformat": 4,
 "nbformat_minor": 2
}
